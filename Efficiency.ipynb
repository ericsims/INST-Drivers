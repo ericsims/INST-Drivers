{
 "cells": [
  {
   "cell_type": "code",
   "execution_count": 1,
   "metadata": {},
   "outputs": [
    {
     "name": "stdout",
     "output_type": "stream",
     "text": [
      "Electronic Load: HEWLETT-PACKARD,6050A,0,A.01.01\n",
      "\n",
      "Supply: HP6626A\r\n",
      "\n"
     ]
    }
   ],
   "source": [
    "import numpy as np\n",
    "import time\n",
    "from INST_6050A import INST_6050A\n",
    "from INST_6626A import INST_6626A\n",
    "\n",
    "load = INST_6050A(22)\n",
    "print (\"Electronic Load: \" + load.identify())\n",
    "psu = INST_6626A(3)\n",
    "print (\"Supply: \" + psu.identify())"
   ]
  },
  {
   "cell_type": "code",
   "execution_count": 2,
   "metadata": {},
   "outputs": [],
   "source": [
    "load.disable(1)\n",
    "psu.disable(3)\n",
    "psu.setVoltage(3,10)\n",
    "psu.setCurrent(3,2)\n",
    "psu.enable(3)"
   ]
  },
  {
   "cell_type": "code",
   "execution_count": 3,
   "metadata": {},
   "outputs": [
    {
     "name": "stdout",
     "output_type": "stream",
     "text": [
      "Load testing from 0.1000A to 1.5000A in 0.1000A steps...\n",
      "\n",
      "I\tPin\tPout\tEff\n",
      "0.1070\t1.2003\t1.0694\t0.8909\n",
      "0.1970\t2.1532\t1.9657\t0.9129\n",
      "0.3050\t3.1863\t3.0433\t0.9551\n",
      "0.3950\t4.1414\t3.9346\t0.9501\n",
      "0.5020\t5.1705\t5.0004\t0.9671\n",
      "0.6010\t6.1366\t5.9770\t0.9740\n",
      "0.7000\t7.1704\t6.9620\t0.9709\n",
      "0.7990\t8.1268\t7.9330\t0.9762\n",
      "0.8980\t9.1659\t8.9000\t0.9710\n",
      "0.9970\t10.1250\t9.8810\t0.9759\n",
      "1.1040\t11.1611\t10.9240\t0.9788\n",
      "1.1950\t12.1152\t11.8250\t0.9760\n",
      "1.3020\t13.1576\t12.8610\t0.9775\n",
      "1.4010\t14.1154\t13.8390\t0.9804\n",
      "1.5000\t15.1665\t14.7930\t0.9754\n"
     ]
    }
   ],
   "source": [
    "minI = 0.1\n",
    "maxI = 1.5\n",
    "stepI = 0.1\n",
    "\n",
    "print(\"Load testing from {:0.4f}A to {:0.4f}A in {:0.4f}A steps...\".format(minI, maxI, stepI))\n",
    "print(\"\")\n",
    "print(\"I\\tPin\\tPout\\tEff\")\n",
    "\n",
    "load.set(1,\"CC\",0)\n",
    "load.enable(1)\n",
    "Pins = []\n",
    "Pouts = []\n",
    "Effs = []\n",
    "Is = []\n",
    "for I in np.arange(minI, maxI+stepI, stepI):\n",
    "    load.set(1,\"CC\",I)\n",
    "    time.sleep(1)\n",
    "    Pin = psu.getPower(3)\n",
    "    Pout = load.getPower(1)\n",
    "    Eff = Pout/Pin\n",
    "    Im=load.getCurrent(1)\n",
    "    print(\"{:0.4f}\\t{:0.4f}\\t{:0.4f}\\t{:0.4f}\".format(Im,Pin,Pout,Eff))\n",
    "    Pins.append(Pin)\n",
    "    Pouts.append(Pout)\n",
    "    Is.append(Im)\n",
    "    Effs.append(Eff)\n",
    "load.disable(1)"
   ]
  },
  {
   "cell_type": "code",
   "execution_count": 4,
   "metadata": {},
   "outputs": [
    {
     "data": {
      "image/png": "[encoded data removed]",
      "text/plain": [
       "<Figure size 432x288 with 1 Axes>"
      ]
     },
     "metadata": {
      "needs_background": "light"
     },
     "output_type": "display_data"
    }
   ],
   "source": [
    "%matplotlib inline\n",
    "import matplotlib.pyplot as plt\n",
    "plt.plot(Is,Effs, '-o', color='black', label='Eff vs I')    \n",
    "plt.legend()\n",
    "plt.title('Efficiency')\n",
    "plt.xlabel('Load Current (A)')\n",
    "plt.ylabel('Efficiency $P_{out}$/$P_{in}$')\n",
    "plt.ylim(top=1)\n",
    "plt.show()"
   ]
  }
 ],
 "metadata": {
  "kernelspec": {
   "display_name": "Python 3",
   "language": "python",
   "name": "python3"
  },
  "language_info": {
   "codemirror_mode": {
    "name": "ipython",
    "version": 3
   },
   "file_extension": ".py",
   "mimetype": "text/x-python",
   "name": "python",
   "nbconvert_exporter": "python",
   "pygments_lexer": "ipython3",
   "version": "3.6.3"
  }
 },
 "nbformat": 4,
 "nbformat_minor": 2
}
