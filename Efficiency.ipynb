{
 "cells": [
  {
   "cell_type": "code",
   "execution_count": 1,
   "metadata": {},
   "outputs": [
    {
     "name": "stdout",
     "output_type": "stream",
     "text": [
      "Electronic Load: HEWLETT-PACKARD,6050A,0,A.01.01\n",
      "\n",
      "Supply: HP6626A\n",
      "\n"
     ]
    }
   ],
   "source": [
    "import numpy as np\n",
    "import time\n",
    "from INST_6050A import INST_6050A\n",
    "from INST_6626A import INST_6626A\n",
    "\n",
    "load = INST_6050A(22)\n",
    "print (\"Electronic Load: \" + load.identify())\n",
    "psu = INST_6626A(3)\n",
    "print (\"Supply: \" + psu.identify())\n",
    "\n",
    "load.disable(1)\n",
    "psu.disable(3)"
   ]
  },
  {
   "cell_type": "code",
   "execution_count": 2,
   "metadata": {},
   "outputs": [
    {
     "name": "stdout",
     "output_type": "stream",
     "text": [
      "Load testing from 0.0500A to 2.0000A in 0.0500A steps...\n",
      "and 15.0000V to 35.0000V in 20.0000V steps...\n",
      "\n",
      "V=15.0000\n",
      "I\tPin\tPout\tEff\n",
      "0.0520\t0.4379\t0.2673\t0.6104\n",
      "0.0990\t0.7336\t0.5089\t0.6937\n",
      "0.1510\t1.0468\t0.7761\t0.7414\n",
      "0.2000\t1.3648\t1.0280\t0.7532\n",
      "0.2500\t1.6627\t1.2850\t0.7728\n",
      "0.2990\t1.9726\t1.5369\t0.7791\n",
      "0.3490\t2.2512\t1.7939\t0.7969\n",
      "0.3980\t2.5508\t2.0457\t0.8020\n",
      "0.4510\t2.8384\t2.3181\t0.8167\n",
      "0.5000\t3.1037\t2.5700\t0.8281\n",
      "0.5500\t3.3422\t2.7885\t0.8343\n",
      "0.5990\t3.6045\t3.0369\t0.8425\n",
      "0.6490\t3.8700\t3.2904\t0.8502\n",
      "0.7010\t4.1340\t3.5541\t0.8597\n",
      "0.7480\t4.3827\t3.7924\t0.8653\n",
      "0.8000\t4.6497\t4.0560\t0.8723\n",
      "0.8500\t4.9155\t4.3095\t0.8767\n",
      "0.8990\t5.1822\t4.5579\t0.8795\n",
      "0.9460\t5.4341\t4.8114\t0.8854\n",
      "0.9980\t5.7015\t5.0599\t0.8875\n",
      "1.0480\t5.9730\t5.3134\t0.8896\n",
      "1.1000\t6.2404\t5.5770\t0.8937\n",
      "1.1470\t6.4961\t5.7350\t0.8828\n",
      "1.1990\t6.7680\t5.9800\t0.8836\n",
      "1.2490\t7.0420\t6.2450\t0.8868\n",
      "1.2980\t7.3120\t6.4900\t0.8876\n",
      "1.3480\t7.5825\t6.7400\t0.8889\n",
      "1.3970\t7.8415\t6.9850\t0.8908\n",
      "1.4470\t8.1120\t7.2350\t0.8919\n",
      "1.4990\t8.3865\t7.4950\t0.8937\n",
      "1.5490\t8.6589\t7.7450\t0.8945\n",
      "1.5950\t8.9184\t7.9750\t0.8942\n",
      "1.6480\t9.1929\t8.2400\t0.8963\n",
      "1.6970\t9.4674\t8.4850\t0.8962\n",
      "1.7470\t9.7455\t8.7350\t0.8963\n",
      "1.7960\t10.0050\t8.8720\t0.8868\n",
      "1.8460\t10.2811\t9.1190\t0.8870\n",
      "1.8980\t10.5630\t9.3760\t0.8876\n",
      "1.9480\t10.8420\t9.6230\t0.8876\n",
      "1.9970\t11.1202\t9.8650\t0.8871\n",
      "V=35.0000\n",
      "I\tPin\tPout\tEff\n",
      "0.0520\t0.5397\t0.2673\t0.4952\n",
      "0.0990\t0.9006\t0.5089\t0.5651\n",
      "0.1510\t1.2825\t0.7761\t0.6052\n",
      "0.2000\t1.6170\t1.0280\t0.6358\n",
      "0.2500\t1.9654\t1.2850\t0.6538\n",
      "0.2990\t2.4226\t1.5369\t0.6344\n",
      "0.3490\t2.6151\t1.7939\t0.6860\n",
      "0.3980\t3.1491\t2.0457\t0.6496\n",
      "0.4510\t3.5191\t2.3181\t0.6587\n",
      "0.5000\t3.8355\t2.5700\t0.6701\n",
      "0.5500\t4.1638\t2.8270\t0.6789\n",
      "0.5990\t4.5453\t3.0789\t0.6774\n",
      "0.6490\t4.8680\t3.3359\t0.6853\n",
      "0.7010\t5.2839\t3.6031\t0.6819\n",
      "0.7480\t5.5386\t3.8447\t0.6942\n",
      "0.8000\t5.8082\t4.0560\t0.6983\n",
      "0.8500\t6.0763\t4.3095\t0.7092\n",
      "0.8990\t6.3492\t4.5579\t0.7179\n",
      "0.9460\t6.6043\t4.8114\t0.7285\n",
      "0.9980\t6.8763\t5.0599\t0.7359\n",
      "1.0480\t7.1513\t5.3134\t0.7430\n",
      "1.1000\t7.4229\t5.5770\t0.7513\n",
      "1.1470\t7.6549\t5.8153\t0.7597\n",
      "1.1960\t7.9343\t6.0637\t0.7642\n",
      "1.2490\t8.2080\t6.3324\t0.7715\n",
      "1.2980\t8.4810\t6.5810\t0.7760\n",
      "1.3480\t8.7602\t6.8340\t0.7801\n",
      "1.3970\t9.0235\t6.9850\t0.7741\n",
      "1.4470\t9.2930\t7.2350\t0.7785\n",
      "1.4990\t9.5765\t7.4950\t0.7826\n",
      "1.5490\t9.8566\t7.7450\t0.7858\n",
      "1.5950\t10.1182\t7.9750\t0.7882\n",
      "1.6480\t10.4017\t8.2400\t0.7922\n",
      "1.6970\t10.6756\t8.4850\t0.7948\n",
      "1.7470\t10.9626\t8.7350\t0.7968\n",
      "1.7960\t11.2286\t8.9800\t0.7997\n",
      "1.8460\t11.5077\t9.2300\t0.8021\n",
      "1.8980\t11.8027\t9.4900\t0.8041\n",
      "1.9480\t12.0817\t9.7400\t0.8062\n",
      "1.9970\t12.3721\t9.8650\t0.7974\n"
     ]
    }
   ],
   "source": [
    "minV = 15\n",
    "maxV = 35\n",
    "stepV = 20\n",
    "\n",
    "minI = 0.05\n",
    "maxI = 2\n",
    "stepI = 0.05\n",
    "\n",
    "print(\"Load testing from {:0.4f}A to {:0.4f}A in {:0.4f}A steps...\".format(minI, maxI, stepI))\n",
    "print(\"and {:0.4f}V to {:0.4f}V in {:0.4f}V steps...\".format(minV, maxV, stepV))\n",
    "print(\"\")\n",
    "\n",
    "tests = []\n",
    "for V in np.arange(minV, maxV+stepV, stepV):\n",
    "    print(\"V={:0.4f}\".format(V))\n",
    "    print(\"I\\tPin\\tPout\\tEff\")\n",
    "    psu.setCurrent(4,2)\n",
    "    psu.setVoltage(4,V)\n",
    "    psu.enable(4)\n",
    "    load.set(3,\"CC\",0)\n",
    "    load.enable(3)\n",
    "    Pins = []\n",
    "    Pouts = []\n",
    "    Effs = []\n",
    "    Is = []\n",
    "    for I in np.arange(minI, maxI+stepI, stepI):\n",
    "        load.set(3,\"CC\",I)\n",
    "        time.sleep(1)\n",
    "        Pin = psu.getPower(4)\n",
    "        Pout = load.getPower(3)\n",
    "        Eff = Pout/Pin\n",
    "        Im=load.getCurrent(3)\n",
    "        print(\"{:0.4f}\\t{:0.4f}\\t{:0.4f}\\t{:0.4f}\".format(Im,Pin,Pout,Eff))\n",
    "        Pins.append(Pin)\n",
    "        Pouts.append(Pout)\n",
    "        Is.append(Im)\n",
    "        Effs.append(Eff)\n",
    "    load.disable(3)\n",
    "    tests.append([V,Is,Pins,Pout,Effs])\n"
   ]
  },
  {
   "cell_type": "code",
   "execution_count": 3,
   "metadata": {},
   "outputs": [
    {
     "data": {
      "image/png": "[encoded data removed]",
      "text/plain": [
       "<Figure size 432x288 with 1 Axes>"
      ]
     },
     "metadata": {
      "needs_background": "light"
     },
     "output_type": "display_data"
    }
   ],
   "source": [
    "%matplotlib inline\n",
    "import matplotlib.pyplot as plt\n",
    "for t in tests:\n",
    "    plt.plot(t[1],t[4], '-o', label='{:.4f}V'.format(t[0]))    \n",
    "plt.legend()\n",
    "plt.title('Efficiency')\n",
    "plt.xlabel('Load Current (A)')\n",
    "plt.ylabel('Efficiency $P_{out}$/$P_{in}$')\n",
    "plt.ylim(top=1)\n",
    "plt.show()"
   ]
  }
 ],
 "metadata": {
  "kernelspec": {
   "display_name": "Python 3",
   "language": "python",
   "name": "python3"
  },
  "language_info": {
   "codemirror_mode": {
    "name": "ipython",
    "version": 3
   },
   "file_extension": ".py",
   "mimetype": "text/x-python",
   "name": "python",
   "nbconvert_exporter": "python",
   "pygments_lexer": "ipython3",
   "version": "3.9.4"
  }
 },
 "nbformat": 4,
 "nbformat_minor": 4
}
