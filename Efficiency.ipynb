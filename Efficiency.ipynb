{
 "cells": [
  {
   "cell_type": "code",
   "execution_count": 1,
   "metadata": {},
   "outputs": [
    {
     "name": "stdout",
     "output_type": "stream",
     "text": [
      "Electronic Load: HEWLETT-PACKARD,6050A,0,A.01.01\n",
      "\n",
      "Supply: HP6626A\r\n",
      "\n"
     ]
    }
   ],
   "source": [
    "import numpy as np\n",
    "import time\n",
    "from INST_6050A import INST_6050A\n",
    "from INST_6626A import INST_6626A\n",
    "\n",
    "load = INST_6050A(22)\n",
    "print (\"Electronic Load: \" + load.identify())\n",
    "psu = INST_6626A(3)\n",
    "print (\"Supply: \" + psu.identify())\n",
    "\n",
    "load.disable(1)\n",
    "psu.disable(3)"
   ]
  },
  {
   "cell_type": "code",
   "execution_count": 2,
   "metadata": {},
   "outputs": [
    {
     "name": "stdout",
     "output_type": "stream",
     "text": [
      "Load testing from 0.1000A to 1.5000A in 0.2000A steps...\n",
      "and 5.0000V to 15.0000V in 5.0000V steps...\n",
      "\n",
      "V=5.0000\n",
      "I\tPin\tPout\tEff\n",
      "0.1070\t0.5976\t0.5338\t0.8933\n",
      "0.3050\t1.5915\t1.5165\t0.9529\n",
      "0.5020\t2.5855\t2.4879\t0.9622\n",
      "0.7000\t3.5845\t3.4573\t0.9645\n",
      "0.8980\t4.5835\t4.4200\t0.9643\n",
      "1.1040\t5.5836\t5.3975\t0.9667\n",
      "1.3020\t6.5790\t6.3447\t0.9644\n",
      "1.5000\t7.5845\t7.2840\t0.9604\n",
      "V=10.0000\n",
      "I\tPin\tPout\tEff\n",
      "0.1070\t1.1951\t1.0694\t0.8948\n",
      "0.3050\t3.1843\t3.0433\t0.9557\n",
      "0.5020\t5.1705\t5.0004\t0.9671\n",
      "0.7000\t7.1697\t6.9620\t0.9710\n",
      "0.8980\t9.1699\t8.9000\t0.9706\n",
      "1.1040\t11.1661\t10.9240\t0.9783\n",
      "1.3020\t13.1593\t12.8610\t0.9773\n",
      "1.5000\t15.1705\t14.7930\t0.9751\n",
      "V=15.0000\n",
      "I\tPin\tPout\tEff\n",
      "0.1070\t1.7947\t1.6050\t0.8943\n",
      "0.3050\t4.7800\t4.5698\t0.9560\n",
      "0.5020\t7.7581\t7.5130\t0.9684\n",
      "0.7000\t10.7587\t10.4650\t0.9727\n",
      "0.8980\t13.7578\t13.3960\t0.9737\n",
      "1.1040\t16.7539\t16.4500\t0.9819\n",
      "1.3020\t19.7454\t19.3790\t0.9814\n",
      "1.5000\t22.7626\t22.3010\t0.9797\n"
     ]
    }
   ],
   "source": [
    "minV = 5\n",
    "maxV = 15\n",
    "stepV = 5\n",
    "\n",
    "minI = 0.1\n",
    "maxI = 1.5\n",
    "stepI = 0.2\n",
    "\n",
    "print(\"Load testing from {:0.4f}A to {:0.4f}A in {:0.4f}A steps...\".format(minI, maxI, stepI))\n",
    "print(\"and {:0.4f}V to {:0.4f}V in {:0.4f}V steps...\".format(minV, maxV, stepV))\n",
    "print(\"\")\n",
    "\n",
    "tests = []\n",
    "for V in np.arange(minV, maxV+stepV, stepV):\n",
    "    print(\"V={:0.4f}\".format(V))\n",
    "    print(\"I\\tPin\\tPout\\tEff\")\n",
    "    psu.setCurrent(3,2)\n",
    "    psu.setVoltage(3,V)\n",
    "    psu.enable(3)\n",
    "    load.set(1,\"CC\",0)\n",
    "    load.enable(1)\n",
    "    Pins = []\n",
    "    Pouts = []\n",
    "    Effs = []\n",
    "    Is = []\n",
    "    for I in np.arange(minI, maxI+stepI, stepI):\n",
    "        load.set(1,\"CC\",I)\n",
    "        time.sleep(1)\n",
    "        Pin = psu.getPower(3)\n",
    "        Pout = load.getPower(1)\n",
    "        Eff = Pout/Pin\n",
    "        Im=load.getCurrent(1)\n",
    "        print(\"{:0.4f}\\t{:0.4f}\\t{:0.4f}\\t{:0.4f}\".format(Im,Pin,Pout,Eff))\n",
    "        Pins.append(Pin)\n",
    "        Pouts.append(Pout)\n",
    "        Is.append(Im)\n",
    "        Effs.append(Eff)\n",
    "    load.disable(1)\n",
    "    tests.append([V,Is,Pins,Pout,Effs])\n"
   ]
  },
  {
   "cell_type": "code",
   "execution_count": 3,
   "metadata": {},
   "outputs": [
    {
     "data": {
      "image/png": "[encoded data removed]",
      "text/plain": [
       "<Figure size 432x288 with 1 Axes>"
      ]
     },
     "metadata": {
      "needs_background": "light"
     },
     "output_type": "display_data"
    }
   ],
   "source": [
    "%matplotlib inline\n",
    "import matplotlib.pyplot as plt\n",
    "for t in tests:\n",
    "    plt.plot(t[1],t[4], '-o', label='{:.4f}V'.format(t[0]))    \n",
    "plt.legend()\n",
    "plt.title('Efficiency')\n",
    "plt.xlabel('Load Current (A)')\n",
    "plt.ylabel('Efficiency $P_{out}$/$P_{in}$')\n",
    "plt.ylim(top=1)\n",
    "plt.show()"
   ]
  }
 ],
 "metadata": {
  "kernelspec": {
   "display_name": "Python 3",
   "language": "python",
   "name": "python3"
  },
  "language_info": {
   "codemirror_mode": {
    "name": "ipython",
    "version": 3
   },
   "file_extension": ".py",
   "mimetype": "text/x-python",
   "name": "python",
   "nbconvert_exporter": "python",
   "pygments_lexer": "ipython3",
   "version": "3.6.3"
  }
 },
 "nbformat": 4,
 "nbformat_minor": 2
}
